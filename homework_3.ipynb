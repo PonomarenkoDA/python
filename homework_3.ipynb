{
 "cells": [
  {
   "cell_type": "markdown",
   "metadata": {},
   "source": [
    "## Задание №1\n",
    "\n",
    "Дан список из чисел.\n",
    "Определите их НОК (наименьшее общее кратное) и НОД (наибольший общий делитель)."
   ]
  },
  {
   "cell_type": "code",
   "execution_count": 1,
   "metadata": {},
   "outputs": [
    {
     "name": "stdout",
     "output_type": "stream",
     "text": [
      "Список чисел: [12, 24, 60, 120]\n",
      "\n",
      "НОД: 12\n",
      "НОК: 120\n"
     ]
    }
   ],
   "source": [
    "import math\n",
    "from functools import reduce\n",
    "\n",
    "def calc_math(lst: list) -> tuple:\n",
    "    NOD = reduce(math.gcd, lst)\n",
    "    NOK = reduce(lambda x, y: x * y // math.gcd(x, y), lst)\n",
    "    return NOD, NOK\n",
    "\n",
    "numbers = [12, 24, 60, 120]\n",
    "print(f\"Список чисел: {numbers}\")\n",
    "print(f\"\\nНОД: {calc_math(numbers)[0]}\")\n",
    "print(f\"НОК: {calc_math(numbers)[1]}\")"
   ]
  },
  {
   "cell_type": "markdown",
   "metadata": {},
   "source": [
    "## Задание №2\n",
    "\n",
    "Даны n предложений. Определите, сколько из них содержат хотя бы одну цифру."
   ]
  },
  {
   "cell_type": "code",
   "execution_count": 2,
   "metadata": {},
   "outputs": [
    {
     "name": "stdout",
     "output_type": "stream",
     "text": [
      "Количество предложений: 5\n",
      "\n",
      " ['Человек 2 в парке1', 'Робот 1 в парке1', 'Человек играет в небе', 'Кот 1 на дереве', 'Птица играет в доме2']\n",
      "\n",
      "Предложений с цифрами:  4\n"
     ]
    }
   ],
   "source": [
    "import random\n",
    "import re\n",
    "\n",
    "n = int(input('Количество предложений: '))\n",
    "\n",
    "subjects = [\"Кот\", \"Собака\", \"Человек\", \"Птица\", \"Робот\"]\n",
    "verbnums = [\"бегает\", \"прыгает\", \"1\", \"смотрит\", \"играет\", \"10\", \"2\"]\n",
    "objects = [\"в парке1\", \"по улице\", \"на дереве\", \"в доме2\", \"в небе\"]\n",
    "\n",
    "def generate_sentence(n: int) -> list:\n",
    "    sentence_lst = []\n",
    "    for i in range(n):\n",
    "        subject = random.choice(subjects)\n",
    "        verbnum = random.choice(verbnums)\n",
    "        obj     = random.choice(objects)\n",
    "        sentence = f\"{subject} {verbnum} {obj}\"\n",
    "        sentence_lst.append(sentence)\n",
    "    return sentence_lst\n",
    "    \n",
    "def find_digit(lst: list) -> int:\n",
    "    pattern = re.compile(r'\\d')\n",
    "    count = sum([1 for sentence in lst if len(pattern.findall(sentence)) != 0])\n",
    "    return count\n",
    "            \n",
    "my_sentence = generate_sentence(n)\n",
    "print('\\n', my_sentence)\n",
    "print('\\nПредложений с цифрами: ', find_digit(my_sentence))"
   ]
  },
  {
   "cell_type": "markdown",
   "metadata": {},
   "source": [
    "## Задание №3\n",
    "\n",
    "Дана строка s и символ k. Реализуйте функцию, рисующую рамку из символа k вокруг данной строки, например"
   ]
  },
  {
   "cell_type": "code",
   "execution_count": 3,
   "metadata": {},
   "outputs": [
    {
     "name": "stdout",
     "output_type": "stream",
     "text": [
      "*****************************\n",
      "*Привет, меня зовут Дмитрий!*\n",
      "*****************************\n"
     ]
    }
   ],
   "source": [
    "s = 'Привет, меня зовут Дмитрий!'\n",
    "k = '*'\n",
    "\n",
    "def print_frame(symbol: str, string: str) -> print:\n",
    "    new_word = symbol + string + symbol\n",
    "    frame = k * len(new_word)\n",
    "    print(f'{frame}\\n{new_word}\\n{frame}')\n",
    "\n",
    "print_frame(k, s)"
   ]
  },
  {
   "cell_type": "markdown",
   "metadata": {},
   "source": [
    "## Задание №4\n",
    "\n",
    "Для введенного предложения выведите статистику символ=количество. Регистр букв не учитывается."
   ]
  },
  {
   "cell_type": "code",
   "execution_count": 4,
   "metadata": {},
   "outputs": [
    {
     "name": "stdout",
     "output_type": "stream",
     "text": [
      "Введите предложение: Hello!\n",
      "\n",
      "СТАТИСТИКА\n",
      "\n",
      "Символ: e=1\n",
      "Символ: h=1\n",
      "Символ: l=2\n",
      "Символ: !=1\n",
      "Символ: o=1\n"
     ]
    }
   ],
   "source": [
    "sentence = input('Введите предложение: ').lower()\n",
    "\n",
    "def statistic(sentence: str) -> print:\n",
    "    print('\\nСТАТИСТИКА\\n')\n",
    "    for symbol in list(set(sentence)):\n",
    "        print(f'Символ: {symbol}={sentence.count(symbol)}')\n",
    "\n",
    "statistic(sentence)"
   ]
  },
  {
   "cell_type": "markdown",
   "metadata": {},
   "source": [
    "## Задание №5\n",
    "\n",
    "Используя шифр Цезаря (достаточно только букв русского алфавита, знаки препинания не изменяются), зашифруйте, а затем расшифруйте введенную строку."
   ]
  },
  {
   "cell_type": "code",
   "execution_count": 5,
   "metadata": {},
   "outputs": [
    {
     "name": "stdout",
     "output_type": "stream",
     "text": [
      "Исходная строка: Как дела?\n",
      "Зашифрованная строка:  Нгн жзог?\n",
      "Расшифрованная строка:  Как дела?\n"
     ]
    }
   ],
   "source": [
    "# Шифратор и дешифратор Цезаря\n",
    "\n",
    "def encoder(string: str) -> str:\n",
    "    \n",
    "    upper_alphabet = ['А', 'Б', 'В', 'Г', 'Д', 'Е', 'Ё', 'Ж', 'З', 'И', 'Й', 'К', 'Л', 'М', 'Н', 'О', \\\n",
    "                       'П', 'Р', 'С','Т', 'У', 'Ф', 'Х', 'Ц', 'Ч', 'Ш', 'Щ', 'Ъ', 'Ы', 'Ь', 'Э', 'Ю', 'Я']\n",
    "    lower_alphabet = ['а', 'б', 'в', 'г', 'д', 'е', 'ё', 'ж', 'з', 'и', 'й', 'к', 'л', 'м', 'н', 'о', \\\n",
    "                      'п', 'р', 'с', 'т', 'у', 'ф', 'х', 'ц', 'ч', 'ш', 'щ', 'ъ', 'ы', 'ь', 'э', 'ю', 'я']\n",
    "    secret_key = 3\n",
    "    \n",
    "    for letter in list(set(string)):\n",
    "        if letter in upper_alphabet:\n",
    "            index = (upper_alphabet.index(letter) + secret_key) % len(upper_alphabet)\n",
    "            string = string.replace(letter, upper_alphabet[index])\n",
    "        elif letter in lower_alphabet:\n",
    "            index = (lower_alphabet.index(letter) + secret_key) % len(lower_alphabet)\n",
    "            string = string.replace(letter, lower_alphabet[index])\n",
    "    \n",
    "    return string\n",
    "\n",
    "\n",
    "def decoder(string: str) -> str:\n",
    "    \n",
    "    upper_alphabet = ['А', 'Б', 'В', 'Г', 'Д', 'Е', 'Ё', 'Ж', 'З', 'И', 'Й', 'К', 'Л', 'М', 'Н', 'О', \\\n",
    "                      'П', 'Р', 'С','Т', 'У', 'Ф', 'Х', 'Ц', 'Ч', 'Ш', 'Щ', 'Ъ', 'Ы', 'Ь', 'Э', 'Ю', 'Я']\n",
    "    lower_alphabet = ['а', 'б', 'в', 'г', 'д', 'е', 'ё', 'ж', 'з', 'и', 'й', 'к', 'л', 'м', 'н', 'о', \\\n",
    "                      'п', 'р', 'с', 'т', 'у', 'ф', 'х', 'ц', 'ч', 'ш', 'щ', 'ъ', 'ы', 'ь', 'э', 'ю', 'я']\n",
    "    secret_key = 3\n",
    "    \n",
    "    for letter in list(set(string)):\n",
    "        if letter in upper_alphabet:\n",
    "            index = (upper_alphabet.index(letter) - secret_key) % len(upper_alphabet)\n",
    "            string = string.replace(letter, upper_alphabet[index])\n",
    "        elif letter in lower_alphabet:\n",
    "            index = (lower_alphabet.index(letter) - secret_key) % len(lower_alphabet)\n",
    "            string = string.replace(letter, lower_alphabet[index])\n",
    "    \n",
    "    return string\n",
    "\n",
    "my_string = input('Исходная строка: ')\n",
    "\n",
    "print('Зашифрованная строка: ', encoder(my_string))\n",
    "print('Расшифрованная строка: ', decoder(encoder(my_string)))"
   ]
  },
  {
   "cell_type": "markdown",
   "metadata": {},
   "source": [
    "## Задание №6\n",
    "\n",
    "Напишите функцию, которая принимает неограниченное количество числовых аргументов и возвращает кортеж из двух списков:\n",
    "отрицательных значений (отсортирован по убыванию);\n",
    "неотрицательных значений (отсортирован по возрастанию)."
   ]
  },
  {
   "cell_type": "code",
   "execution_count": 6,
   "metadata": {},
   "outputs": [],
   "source": [
    "def func(*args) -> tuple:\n",
    "\n",
    "    negative_lst = sorted([x for x in args if x < 0], reverse=True)\n",
    "    positive_lst = sorted([x for x in args if x >= 0])\n",
    "    \n",
    "    return (negative_lst, positive_lst)"
   ]
  },
  {
   "cell_type": "code",
   "execution_count": 7,
   "metadata": {},
   "outputs": [
    {
     "data": {
      "text/plain": [
       "([-1, -10, -25], [0, 1, 3, 5, 100])"
      ]
     },
     "execution_count": 7,
     "metadata": {},
     "output_type": "execute_result"
    }
   ],
   "source": [
    "func(1, -10, 100, -25, 5, 3, -1, 0)"
   ]
  },
  {
   "cell_type": "markdown",
   "metadata": {},
   "source": [
    "## Задание №7\n",
    "\n",
    "Строка называется палиндромом, если она пишется одинаково в обоих направлениях. Например, палиндромами в английском языке являются слова «anna», «civic», «level», «hannah». Напишите программу, запрашивающую у пользователя строку и при помощи цикла определяющую, является ли она палиндромом."
   ]
  },
  {
   "cell_type": "code",
   "execution_count": 8,
   "metadata": {},
   "outputs": [
    {
     "name": "stdout",
     "output_type": "stream",
     "text": [
      "Исходная строка: level done\n",
      "Первая строка является палиндромом:  True\n",
      "Вторая строка является палиндромом:  False\n"
     ]
    }
   ],
   "source": [
    "# Без циклов\n",
    "\n",
    "my_string1, my_string2 = map(str, input('Исходная строка: ').split())\n",
    "\n",
    "def palindrome_check_easy(string: str) -> bool:\n",
    "    return True if string == string[::-1] else False\n",
    "\n",
    "print('Первая строка является палиндромом: ', palindrome_check_easy(my_string1))\n",
    "print('Вторая строка является палиндромом: ', palindrome_check_easy(my_string2))"
   ]
  },
  {
   "cell_type": "code",
   "execution_count": 9,
   "metadata": {},
   "outputs": [
    {
     "name": "stdout",
     "output_type": "stream",
     "text": [
      "Исходная строка: level done\n",
      "Первая строка является палиндромом:  True\n",
      "Вторая строка является палиндромом:  False\n"
     ]
    }
   ],
   "source": [
    "# С циклом\n",
    "\n",
    "my_string1, my_string2 = map(str, input('Исходная строка: ').split())\n",
    "\n",
    "def palindrome_check_hard(string: str) -> bool:\n",
    "    for i in range(len(string) // 2):\n",
    "        if string[i] != string[len(string) - 1 - i]:\n",
    "            return False\n",
    "    return True\n",
    "\n",
    "print('Первая строка является палиндромом: ', palindrome_check_hard(my_string1))\n",
    "print('Вторая строка является палиндромом: ', palindrome_check_hard(my_string2))"
   ]
  },
  {
   "cell_type": "markdown",
   "metadata": {},
   "source": [
    "## Задание №8\n",
    "\n",
    "Вы загадываете число от 1 до 100 (включительно). Компьютер спрашивает у вас «Твое число равно, меньше или больше, чем число N?»,  где N — число, которое хочет проверить компьютер.\n",
    "Вы отвечаете одним из трёх чисел:\n",
    "- 1 — равно,\n",
    "- 2 — больше,\n",
    "- 3 — меньше.\n",
    "\n",
    "Напишите программу, которая с помощью цепочки таких вопросов и ответов угадывает число.\n",
    "Дополнительно: сделайте так, чтобы можно было гарантированно угадать число за семь попыток.\n"
   ]
  },
  {
   "cell_type": "code",
   "execution_count": 10,
   "metadata": {},
   "outputs": [
    {
     "data": {
      "text/plain": [
       "86"
      ]
     },
     "execution_count": 10,
     "metadata": {},
     "output_type": "execute_result"
    }
   ],
   "source": [
    "# Заданное число\n",
    "\n",
    "from random import randint\n",
    "\n",
    "num = randint(0, 100)\n",
    "num"
   ]
  },
  {
   "cell_type": "code",
   "execution_count": 11,
   "metadata": {},
   "outputs": [],
   "source": [
    "# Программа угадывающая число\n",
    "\n",
    "import numpy as np\n",
    "\n",
    "lst = list(range(0, 101))\n",
    "\n",
    "def game(lst: list):\n",
    "    \n",
    "    middle = np.median(lst)\n",
    "    \n",
    "    N = int(input(f'Твое число равно, меньше или больше, чем число {middle}? '))\n",
    "    \n",
    "    if N == 2:\n",
    "        return game([x for x in lst if x > middle])\n",
    "    elif N == 3:\n",
    "        return game([x for x in lst if x < middle])\n",
    "    else:\n",
    "        print('Ваше число: ', round(middle))"
   ]
  },
  {
   "cell_type": "code",
   "execution_count": 12,
   "metadata": {},
   "outputs": [
    {
     "name": "stdout",
     "output_type": "stream",
     "text": [
      "Твое число равно, меньше или больше, чем число 50.0? 2\n",
      "Твое число равно, меньше или больше, чем число 75.5? 2\n",
      "Твое число равно, меньше или больше, чем число 88.0? 3\n",
      "Твое число равно, меньше или больше, чем число 81.5? 2\n",
      "Твое число равно, меньше или больше, чем число 84.5? 2\n",
      "Твое число равно, меньше или больше, чем число 86.0? 1\n",
      "Ваше число:  86\n"
     ]
    }
   ],
   "source": [
    "game(lst)"
   ]
  },
  {
   "cell_type": "markdown",
   "metadata": {},
   "source": [
    "## Задание №9\n",
    "\n",
    "Напишите программу, которая позволит пользователю преобразовывать числа из одной системы счисления в другую произвольным образом. Ваша программа должна поддерживать все системы счисления в диапазоне от 2 до 16 как для входных, так и для выходных данных. Если пользователь выберет систему с основанием, выходящим за границы допустимого, на экран должна быть выведена ошибка. Разделите код программы на несколько функций, включая функцию, конвертирующую число из произвольной системы счисления в десятичную, и обратную функцию, переводящую значение из десятичной системы в произвольную. В основной программе необходимо запросить у пользователя исходную систему счисления, целевую систему, а также число для преобразования."
   ]
  },
  {
   "cell_type": "code",
   "execution_count": 13,
   "metadata": {},
   "outputs": [
    {
     "name": "stdout",
     "output_type": "stream",
     "text": [
      "Введите исходную систему счисления (от 2 до 16): 2\n",
      "Введите целевую систему счисления (от 2 до 16): 10\n",
      "Введите число в системе счисления 2: 1010110\n",
      "\n",
      "Число 1010110 (в системе счисления 2) = 86 (в системе счисления 10)\n"
     ]
    }
   ],
   "source": [
    "# Функция, конвертирующая число из произвольной системы счисления в десятичную\n",
    "\n",
    "def to_decimal(number: str, base: int) -> int:\n",
    "\n",
    "    decimal_value = 0\n",
    "    for index, digit in enumerate(reversed(number)):\n",
    "        if digit.isdigit():\n",
    "            value = int(digit)\n",
    "        else:\n",
    "            value = ord(digit.upper()) - ord('A') + 10  # Преобразует буквы в числа (для 16-ой системы)\n",
    "\n",
    "        if value >= base:\n",
    "            raise ValueError(f\"Цифра '{digit}' не может быть в системе счисления с основанием {base}\")\n",
    "\n",
    "        decimal_value += value * (base ** index)\n",
    "    return decimal_value\n",
    "\n",
    "# Функция, конвертирующая число из десятичной системы счисления в произвольную систему\n",
    "\n",
    "def from_decimal(decimal_number: int, base: int) -> str:\n",
    "    \n",
    "    digits = []\n",
    "    while decimal_number > 0:\n",
    "        balance = decimal_number % base\n",
    "        if balance < 10:\n",
    "            digits.append(str(balance))\n",
    "        else:\n",
    "            digits.append(chr(balance - 10 + ord('A')))  # Преобразуем числа в буквы (для 16-ой системы)\n",
    "        decimal_number = decimal_number // base\n",
    "    return ''.join(reversed(digits))\n",
    "\n",
    "# Основная программа\n",
    "\n",
    "def main_programm():\n",
    "    try:\n",
    "        # Исходная и целевая система счисления\n",
    "        from_base = int(input(\"Введите исходную систему счисления (от 2 до 16): \"))\n",
    "        to_base = int(input(\"Введите целевую систему счисления (от 2 до 16): \"))\n",
    "\n",
    "        if (from_base < 2 or from_base > 16) or (to_base < 2 or to_base > 16):\n",
    "            raise ValueError(\"Основание системы счисления должно быть в диапазоне от 2 до 16\")\n",
    " \n",
    "        # Число для преобразования\n",
    "        number = input(f\"Введите число в системе счисления {from_base}: \")\n",
    "\n",
    "        decimal_value = to_decimal(number, from_base)\n",
    "        converted_value = from_decimal(decimal_value, to_base)\n",
    "        \n",
    "        print(f\"\\nЧисло {number} (в системе счисления {from_base}) = {converted_value} (в системе счисления {to_base})\")\n",
    "\n",
    "    except ValueError as e:\n",
    "        print(f\"Ошибка: {e}\")\n",
    "\n",
    "main_programm()"
   ]
  },
  {
   "cell_type": "markdown",
   "metadata": {},
   "source": [
    "## Задание №10\n",
    "\n",
    "Магическими называются даты, в которых произведение дня и месяца составляет последние две цифры года. Например, 10 июня 1960 года – магическая дата, поскольку 10 * 6 = 60. Напишите функцию, определяющую, является ли введенная дата магической. Используйте написанную функцию в главной программе для отображения всех магических дат в XX ве­ке."
   ]
  },
  {
   "cell_type": "code",
   "execution_count": 14,
   "metadata": {
    "scrolled": true
   },
   "outputs": [
    {
     "name": "stdout",
     "output_type": "stream",
     "text": [
      "Магические даты в XX веке:\n",
      "1. 01.01.1901\n",
      "2. 02.01.1902\n",
      "3. 01.02.1902\n",
      "4. 03.01.1903\n",
      "5. 01.03.1903\n",
      "6. 04.01.1904\n",
      "7. 02.02.1904\n",
      "8. 01.04.1904\n",
      "9. 05.01.1905\n",
      "10. 01.05.1905\n",
      "11. 06.01.1906\n",
      "12. 03.02.1906\n",
      "13. 02.03.1906\n",
      "14. 01.06.1906\n",
      "15. 07.01.1907\n",
      "16. 01.07.1907\n",
      "17. 08.01.1908\n",
      "18. 04.02.1908\n",
      "19. 02.04.1908\n",
      "20. 01.08.1908\n",
      "21. 09.01.1909\n",
      "22. 03.03.1909\n",
      "23. 01.09.1909\n",
      "24. 10.01.1910\n",
      "25. 05.02.1910\n",
      "26. 02.05.1910\n",
      "27. 01.10.1910\n",
      "28. 11.01.1911\n",
      "29. 01.11.1911\n",
      "30. 12.01.1912\n",
      "31. 06.02.1912\n",
      "32. 04.03.1912\n",
      "33. 03.04.1912\n",
      "34. 02.06.1912\n",
      "35. 01.12.1912\n",
      "36. 13.01.1913\n",
      "37. 14.01.1914\n",
      "38. 07.02.1914\n",
      "39. 02.07.1914\n",
      "40. 15.01.1915\n",
      "41. 05.03.1915\n",
      "42. 03.05.1915\n",
      "43. 16.01.1916\n",
      "44. 08.02.1916\n",
      "45. 04.04.1916\n",
      "46. 02.08.1916\n",
      "47. 17.01.1917\n",
      "48. 18.01.1918\n",
      "49. 09.02.1918\n",
      "50. 06.03.1918\n",
      "51. 03.06.1918\n",
      "52. 02.09.1918\n",
      "53. 19.01.1919\n",
      "54. 20.01.1920\n",
      "55. 10.02.1920\n",
      "56. 05.04.1920\n",
      "57. 04.05.1920\n",
      "58. 02.10.1920\n",
      "59. 21.01.1921\n",
      "60. 07.03.1921\n",
      "61. 03.07.1921\n",
      "62. 22.01.1922\n",
      "63. 11.02.1922\n",
      "64. 02.11.1922\n",
      "65. 23.01.1923\n",
      "66. 24.01.1924\n",
      "67. 12.02.1924\n",
      "68. 08.03.1924\n",
      "69. 06.04.1924\n",
      "70. 04.06.1924\n",
      "71. 03.08.1924\n",
      "72. 02.12.1924\n",
      "73. 25.01.1925\n",
      "74. 05.05.1925\n",
      "75. 26.01.1926\n",
      "76. 13.02.1926\n",
      "77. 27.01.1927\n",
      "78. 09.03.1927\n",
      "79. 03.09.1927\n",
      "80. 28.01.1928\n",
      "81. 14.02.1928\n",
      "82. 07.04.1928\n",
      "83. 04.07.1928\n",
      "84. 29.01.1929\n",
      "85. 30.01.1930\n",
      "86. 15.02.1930\n",
      "87. 10.03.1930\n",
      "88. 06.05.1930\n",
      "89. 05.06.1930\n",
      "90. 03.10.1930\n",
      "91. 31.01.1931\n",
      "92. 16.02.1932\n",
      "93. 08.04.1932\n",
      "94. 04.08.1932\n",
      "95. 11.03.1933\n",
      "96. 03.11.1933\n",
      "97. 17.02.1934\n",
      "98. 07.05.1935\n",
      "99. 05.07.1935\n",
      "100. 18.02.1936\n",
      "101. 12.03.1936\n",
      "102. 09.04.1936\n",
      "103. 06.06.1936\n",
      "104. 04.09.1936\n",
      "105. 03.12.1936\n",
      "106. 19.02.1938\n",
      "107. 13.03.1939\n",
      "108. 20.02.1940\n",
      "109. 10.04.1940\n",
      "110. 08.05.1940\n",
      "111. 05.08.1940\n",
      "112. 04.10.1940\n",
      "113. 21.02.1942\n",
      "114. 14.03.1942\n",
      "115. 07.06.1942\n",
      "116. 06.07.1942\n",
      "117. 22.02.1944\n",
      "118. 11.04.1944\n",
      "119. 04.11.1944\n",
      "120. 15.03.1945\n",
      "121. 09.05.1945\n",
      "122. 05.09.1945\n",
      "123. 23.02.1946\n",
      "124. 24.02.1948\n",
      "125. 16.03.1948\n",
      "126. 12.04.1948\n",
      "127. 08.06.1948\n",
      "128. 06.08.1948\n",
      "129. 04.12.1948\n",
      "130. 07.07.1949\n",
      "131. 25.02.1950\n",
      "132. 10.05.1950\n",
      "133. 05.10.1950\n",
      "134. 17.03.1951\n",
      "135. 26.02.1952\n",
      "136. 13.04.1952\n",
      "137. 27.02.1954\n",
      "138. 18.03.1954\n",
      "139. 09.06.1954\n",
      "140. 06.09.1954\n",
      "141. 11.05.1955\n",
      "142. 05.11.1955\n",
      "143. 28.02.1956\n",
      "144. 14.04.1956\n",
      "145. 08.07.1956\n",
      "146. 07.08.1956\n",
      "147. 19.03.1957\n",
      "148. 20.03.1960\n",
      "149. 15.04.1960\n",
      "150. 12.05.1960\n",
      "151. 10.06.1960\n",
      "152. 06.10.1960\n",
      "153. 05.12.1960\n",
      "154. 21.03.1963\n",
      "155. 09.07.1963\n",
      "156. 07.09.1963\n",
      "157. 16.04.1964\n",
      "158. 08.08.1964\n",
      "159. 13.05.1965\n",
      "160. 22.03.1966\n",
      "161. 11.06.1966\n",
      "162. 06.11.1966\n",
      "163. 17.04.1968\n",
      "164. 23.03.1969\n",
      "165. 14.05.1970\n",
      "166. 10.07.1970\n",
      "167. 07.10.1970\n",
      "168. 24.03.1972\n",
      "169. 18.04.1972\n",
      "170. 12.06.1972\n",
      "171. 09.08.1972\n",
      "172. 08.09.1972\n",
      "173. 06.12.1972\n",
      "174. 25.03.1975\n",
      "175. 15.05.1975\n",
      "176. 19.04.1976\n",
      "177. 11.07.1977\n",
      "178. 07.11.1977\n",
      "179. 26.03.1978\n",
      "180. 13.06.1978\n",
      "181. 20.04.1980\n",
      "182. 16.05.1980\n",
      "183. 10.08.1980\n",
      "184. 08.10.1980\n",
      "185. 27.03.1981\n",
      "186. 09.09.1981\n",
      "187. 28.03.1984\n",
      "188. 21.04.1984\n",
      "189. 14.06.1984\n",
      "190. 12.07.1984\n",
      "191. 07.12.1984\n",
      "192. 17.05.1985\n",
      "193. 29.03.1987\n",
      "194. 22.04.1988\n",
      "195. 11.08.1988\n",
      "196. 08.11.1988\n",
      "197. 30.03.1990\n",
      "198. 18.05.1990\n",
      "199. 15.06.1990\n",
      "200. 10.09.1990\n",
      "201. 09.10.1990\n",
      "202. 13.07.1991\n",
      "203. 23.04.1992\n",
      "204. 31.03.1993\n",
      "205. 19.05.1995\n",
      "206. 24.04.1996\n",
      "207. 16.06.1996\n",
      "208. 12.08.1996\n",
      "209. 08.12.1996\n",
      "210. 14.07.1998\n",
      "211. 11.09.1999\n",
      "212. 09.11.1999\n",
      "CPU times: user 126 ms, sys: 42.6 ms, total: 169 ms\n",
      "Wall time: 115 ms\n"
     ]
    }
   ],
   "source": [
    "%%time\n",
    "import re\n",
    "\n",
    "def magic_date_check(day: int, month: int, year: int) -> bool:\n",
    "    return day * month ==  year % 1900\n",
    "\n",
    "def is_leap_year(year: int) -> bool:\n",
    "    return (year % 4 == 0 and year % 100 != 0) or (year % 400 == 0)\n",
    "\n",
    "def all_magic_dates() -> list:\n",
    "    magic_dates = []\n",
    "    for year in range(1900, 2000): \n",
    "        for month in range(1, 13):  \n",
    "            for day in range(1, 32):\n",
    "                if magic_date_check(day, month, year):\n",
    "                    magic_dates.append(f\"{day:02d}.{month:02d}.{year}\")\n",
    "    return magic_dates\n",
    "\n",
    "def correct_magic_date() -> print:\n",
    "    num = 0\n",
    "    magic_dates = all_magic_dates()\n",
    "    print(\"Магические даты в XX веке:\")\n",
    "\n",
    "    for date in magic_dates:\n",
    "        pattern = re.compile(r'\\d+')\n",
    "        part_of_date = [int(i) for i in pattern.findall(date)]\n",
    "\n",
    "        if is_leap_year(part_of_date[2]):\n",
    "            max_days = [31, 29, 31, 30, 31, 30, 31, 31, 30, 31, 30, 31]\n",
    "        else:\n",
    "            max_days = [31, 28, 31, 30, 31, 30, 31, 31, 30, 31, 30, 31]\n",
    "\n",
    "        if part_of_date[0] <= max_days[part_of_date[1] - 1]:\n",
    "            num+=1\n",
    "            print(f'{num}.', date)\n",
    "correct_magic_date()"
   ]
  },
  {
   "cell_type": "code",
   "execution_count": 15,
   "metadata": {},
   "outputs": [
    {
     "name": "stdout",
     "output_type": "stream",
     "text": [
      "Введите дату в формате \"день, месяц, год\" : 31, 03, 1993\n",
      "Дата магическая!\n"
     ]
    }
   ],
   "source": [
    "# Проверка является ли дата магической\n",
    "\n",
    "day, month, year = map(int, input('Введите дату в формате \"день, месяц, год\" : ').split(','))\n",
    "if magic_date_check(day, month, year):\n",
    "    print('Дата магическая!')\n",
    "else:\n",
    "    print('Увы, это обычная дата')"
   ]
  }
 ],
 "metadata": {
  "kernelspec": {
   "display_name": "Python 3",
   "language": "python",
   "name": "python3"
  },
  "language_info": {
   "codemirror_mode": {
    "name": "ipython",
    "version": 3
   },
   "file_extension": ".py",
   "mimetype": "text/x-python",
   "name": "python",
   "nbconvert_exporter": "python",
   "pygments_lexer": "ipython3",
   "version": "3.7.3"
  }
 },
 "nbformat": 4,
 "nbformat_minor": 4
}
