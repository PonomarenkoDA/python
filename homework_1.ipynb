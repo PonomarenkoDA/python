{
 "cells": [
  {
   "cell_type": "markdown",
   "metadata": {},
   "source": [
    "#  Введение в Python"
   ]
  },
  {
   "cell_type": "markdown",
   "metadata": {},
   "source": [
    "### Задача №1"
   ]
  },
  {
   "cell_type": "code",
   "execution_count": 1,
   "metadata": {
    "scrolled": false
   },
   "outputs": [
    {
     "name": "stdout",
     "output_type": "stream",
     "text": [
      "Введите целое число n: 6\n",
      "Сумма n положительных чисел: 21\n"
     ]
    }
   ],
   "source": [
    "try:\n",
    "    n = abs(int(input('Введите целое число n: ')))\n",
    "    sum_n = n * (n + 1) / 2\n",
    "    print('Сумма n положительных чисел:', int(sum_n))\n",
    "except:\n",
    "    print('Ошибка! Введите целое число!')"
   ]
  },
  {
   "cell_type": "markdown",
   "metadata": {},
   "source": [
    "### Задача №2"
   ]
  },
  {
   "cell_type": "code",
   "execution_count": 2,
   "metadata": {},
   "outputs": [
    {
     "name": "stdout",
     "output_type": "stream",
     "text": [
      "Введите первое число: 4\n",
      "Введите второе число: 5\n",
      "\n",
      "БЛОК: МАТЕМАТИЧЕСКИЕ ОПЕРАЦИИ\n",
      "\n",
      "Сумма:\t\t\t 9\n",
      "Разность:\t\t -1\n",
      "Произведение:\t\t 20\n",
      "Деление:\t\t 0.8\n",
      "Целое:\t\t\t 0\n",
      "Остаток:\t\t 4\n",
      "Логарифм числа 4:\t 0.6\n",
      "Логарифм числа 5:\t 0.7\n",
      "Возведение в степень:\t 1024\n",
      "\n",
      "БЛОК: ОПЕРАЦИИ СРАВНЕНИЯ\n",
      "\n",
      "Число 4 больше 5: False\n",
      "Число 4 меньше 5: True \n",
      "\n",
      "Число 4 больше или равно 5: False\n",
      "Число 4 меньше или равно 5: True \n",
      "\n",
      "Число 4 равно 5:    False\n",
      "Число 4 не равно 5: True\n"
     ]
    }
   ],
   "source": [
    "import numpy as np\n",
    "\n",
    "def calculation(a, b):\n",
    "    \n",
    "    print('\\nБЛОК: МАТЕМАТИЧЕСКИЕ ОПЕРАЦИИ\\n')\n",
    "    print('Сумма:\\t\\t\\t', a + b)\n",
    "    print('Разность:\\t\\t', a - b)\n",
    "    print('Произведение:\\t\\t', a * b)\n",
    "    if b != 0:\n",
    "        print('Деление:\\t\\t', round(a / b, 2))\n",
    "        print('Целое:\\t\\t\\t', a // b)\n",
    "        print('Остаток:\\t\\t', a % b)\n",
    "    if a > 0 and b > 0:\n",
    "        print(f'Логарифм числа {a}:\\t', round(np.log10(a), 2))\n",
    "        print(f'Логарифм числа {b}:\\t', round(np.log10(b), 2))\n",
    "    elif a > 0 and b < 0:\n",
    "        print(f'Логарифм числа {a}:\\t', round(np.log10(a), 2))\n",
    "    elif a < 0 and b > 0:\n",
    "        print(f'Логарифм числа {b}:\\t', round(np.log10(b), 2))\n",
    "    print('Возведение в степень:\\t', round(a**b, 2))\n",
    "    \n",
    "    print('\\nБЛОК: ОПЕРАЦИИ СРАВНЕНИЯ\\n')\n",
    "    print(f'Число {a} больше {b}:', a > b)\n",
    "    print(f'Число {a} меньше {b}:', a < b, '\\n')\n",
    "    print(f'Число {a} больше или равно {b}:', a >= b)\n",
    "    print(f'Число {a} меньше или равно {b}:', a <= b, '\\n')\n",
    "    print(f'Число {a} равно {b}:   ', a == b)\n",
    "    print(f'Число {a} не равно {b}:', a != b)\n",
    "        \n",
    "try:\n",
    "    a = int(input('Введите первое число: '))\n",
    "    b = int(input('Введите второе число: '))\n",
    "    calculation(a, b)\n",
    "except:\n",
    "    print('\\nОшибка! Попробуйте ввести числа')"
   ]
  },
  {
   "cell_type": "markdown",
   "metadata": {},
   "source": [
    "### Задача №3"
   ]
  },
  {
   "cell_type": "code",
   "execution_count": 3,
   "metadata": {},
   "outputs": [
    {
     "name": "stdout",
     "output_type": "stream",
     "text": [
      "Введите значение x: 4\n",
      "Введите значение y: 5\n",
      "Введите значение z: 6\n",
      "\n",
      "Результат f = 0.542\n"
     ]
    }
   ],
   "source": [
    "import math\n",
    "\n",
    "def calculate_f(x, y, z):\n",
    "    \n",
    "    # Проверяем, чтобы y не был равен нулю, чтобы избежать деления на ноль\n",
    "    if y == 0: \n",
    "        raise ValueError(\"Переменная y не может быть равна нулю!\")\n",
    "        \n",
    "    numerator = math.pow((x**5 + 7) / (y * abs(-6)), 1/3) \n",
    "    denominator = 7 - z % y\n",
    "    \n",
    "    # Проверяем, чтобы знаменатель не был равен нулю\n",
    "    if denominator == 0:\n",
    "        raise ValueError(\"Знаменатель не может быть равен нулю!\")\n",
    "        \n",
    "    print('\\nРезультат f =' , round(numerator / denominator, 3))\n",
    "\n",
    "try:\n",
    "    x = int(input(\"Введите значение x: \"))\n",
    "    y = int(input(\"Введите значение y: \"))\n",
    "    z = int(input(\"Введите значение z: \"))\n",
    "    calculate_f(x, y, z)\n",
    "except ValueError as e:\n",
    "    print(f'Ошибка! {e}')"
   ]
  },
  {
   "cell_type": "markdown",
   "metadata": {},
   "source": [
    "### Задача №4"
   ]
  },
  {
   "cell_type": "code",
   "execution_count": 4,
   "metadata": {},
   "outputs": [
    {
     "name": "stdout",
     "output_type": "stream",
     "text": [
      "Сопротивление R1: 100\n",
      "Сопротивление R1: 200\n",
      "Общее сопротивление цепи: 300\n"
     ]
    }
   ],
   "source": [
    "R1 = 100\n",
    "R2 = 200\n",
    "\n",
    "def calc_resistance(R1, R2):\n",
    "    R = round(R1 + R2, 1)\n",
    "    return R\n",
    "\n",
    "print('Сопротивление R1:', R1)\n",
    "print('Сопротивление R1:', R2)\n",
    "print('Общее сопротивление цепи:', calc_resistance(R1, R2))"
   ]
  },
  {
   "cell_type": "markdown",
   "metadata": {},
   "source": [
    "### Задача №5"
   ]
  },
  {
   "cell_type": "code",
   "execution_count": 5,
   "metadata": {},
   "outputs": [
    {
     "name": "stdout",
     "output_type": "stream",
     "text": [
      "Задано уравнение a*x + b = 0\n",
      "\n",
      "Введите коэфицент а: -1\n",
      "Введите коэфицент b: 2\n",
      "Введите левую границу отрезка: -10\n",
      "Введите правую границу отрезка: 10\n",
      "\n",
      "Решение уравнения x = 2.0 попадает в интервал отрезка [-10.0, 10.0]\n"
     ]
    }
   ],
   "source": [
    "def calc_eq(a, b, m, n):\n",
    "    x = - b / a\n",
    "    if m < n:\n",
    "        if x >= m and x <= n :\n",
    "            print(f'\\nРешение уравнения x = {x} попадает в интервал отрезка {[m, n]}')\n",
    "        else:\n",
    "            print(f'\\nРешение уравнения x = {x} не попадает в интервал отрезка {[m, n]}')\n",
    "    else:\n",
    "        print('\\nОшибка! Левая граница отрезка не может быть больше правой!')\n",
    "        \n",
    "try:\n",
    "    print('Задано уравнение a*x + b = 0\\n')\n",
    "    a = float(input('Введите коэфицент а: '))\n",
    "    b = float(input('Введите коэфицент b: '))\n",
    "\n",
    "    m = float(input('Введите левую границу отрезка: '))\n",
    "    n = float(input('Введите правую границу отрезка: '))\n",
    "    calc_eq(a, b, m, n)\n",
    "except:\n",
    "    print('\\nОшибка! Введите числа!')"
   ]
  },
  {
   "cell_type": "markdown",
   "metadata": {},
   "source": [
    "### Задача №6"
   ]
  },
  {
   "cell_type": "code",
   "execution_count": 7,
   "metadata": {},
   "outputs": [
    {
     "name": "stdout",
     "output_type": "stream",
     "text": [
      "Введите скорость: 10.5\n",
      "Введите время: 15\n",
      "\n",
      "Номер километра остановки: 34\n"
     ]
    }
   ],
   "source": [
    "v = float(input('Введите скорость: '))\n",
    "t = float(input('Введите время: '))\n",
    "\n",
    "def number_km(v, t):\n",
    "    s_circle = 123\n",
    "    s = v * t\n",
    "    return int(s % s_circle)\n",
    "\n",
    "print('\\nНомер километра остановки:', number_km(v, t))"
   ]
  },
  {
   "cell_type": "markdown",
   "metadata": {},
   "source": [
    "### Задача №7"
   ]
  },
  {
   "cell_type": "code",
   "execution_count": 8,
   "metadata": {},
   "outputs": [
    {
     "name": "stdout",
     "output_type": "stream",
     "text": [
      "Введите трехзначное число: 234\n",
      "Введите двухзначное число: 21\n",
      "\n",
      "ТРЕХЗНАЧНОЕ ЧИСЛО 234\n",
      "Сумма чисел: 9\n",
      "Произведение чисел:  24\n",
      "\n",
      "ДВУХЗНАЧНОЕ ЧИСЛО 21\n",
      "Сумма чисел: 3\n",
      "Произведение чисел:  2\n"
     ]
    }
   ],
   "source": [
    "import numpy as np\n",
    "\n",
    "str_a = input('Введите трехзначное число: ')\n",
    "str_b = input('Введите двухзначное число: ')\n",
    "\n",
    "if len(str_a) == 3 and len(str_b) == 2:\n",
    " \n",
    "    lst_a = [int(str_a[i]) for i in range(len(str_a))]\n",
    "    lst_b = [int(str_b[i]) for i in range(len(str_b))]\n",
    "\n",
    "    print(f'\\nТРЕХЗНАЧНОЕ ЧИСЛО {str_a}')\n",
    "    print('Сумма чисел:', np.sum(lst_a))\n",
    "    print('Произведение чисел: ', np.prod(lst_a))\n",
    "\n",
    "    print(f'\\nДВУХЗНАЧНОЕ ЧИСЛО {str_b}')\n",
    "    print('Сумма чисел:', np.sum(lst_b))\n",
    "    print('Произведение чисел: ', np.prod(lst_b))\n",
    "else:\n",
    "    print('\\nОшибка! Введите числа требуемой размерности!')"
   ]
  },
  {
   "cell_type": "markdown",
   "metadata": {},
   "source": [
    "### Задача №8"
   ]
  },
  {
   "cell_type": "code",
   "execution_count": 9,
   "metadata": {},
   "outputs": [
    {
     "name": "stdout",
     "output_type": "stream",
     "text": [
      "Введите значение a: 10\n",
      "Введите значение b: 2\n",
      "Введите значение c: 0\n"
     ]
    },
    {
     "data": {
      "text/plain": [
       "[0, 2, 10]"
      ]
     },
     "execution_count": 9,
     "metadata": {},
     "output_type": "execute_result"
    }
   ],
   "source": [
    "a = int(input(\"Введите значение a: \"))\n",
    "b = int(input(\"Введите значение b: \"))\n",
    "c = int(input(\"Введите значение c: \"))\n",
    "\n",
    "lst = [a, b, c]\n",
    "sort_lst = [min(lst), sum(lst) - min(lst) - max(lst) , max(lst)]\n",
    "sort_lst"
   ]
  },
  {
   "cell_type": "markdown",
   "metadata": {},
   "source": [
    "### Задача №9"
   ]
  },
  {
   "cell_type": "code",
   "execution_count": 10,
   "metadata": {},
   "outputs": [
    {
     "name": "stdout",
     "output_type": "stream",
     "text": [
      "Введите первое число: 10\n",
      "Введите второе число: 2\n",
      "10 2\n",
      "2 10\n"
     ]
    }
   ],
   "source": [
    "a = int(input('Введите первое число: '))\n",
    "b = int(input('Введите второе число: '))\n",
    "print(a, b)\n",
    "a += b\n",
    "b = a - b\n",
    "a -= b\n",
    "print(a, b)"
   ]
  },
  {
   "cell_type": "markdown",
   "metadata": {},
   "source": [
    "## Задача №10"
   ]
  },
  {
   "cell_type": "code",
   "execution_count": 11,
   "metadata": {},
   "outputs": [
    {
     "name": "stdout",
     "output_type": "stream",
     "text": [
      "Введите название футбольной команды: Спартак\n"
     ]
    }
   ],
   "source": [
    "name = input('Введите название футбольной команды: ')"
   ]
  },
  {
   "cell_type": "code",
   "execution_count": 12,
   "metadata": {},
   "outputs": [
    {
     "name": "stdout",
     "output_type": "stream",
     "text": [
      "Спартак - чемпион\n"
     ]
    }
   ],
   "source": [
    "# Добавляем к названию команды приписку 'чемпион'\n",
    "print(name + ' - чемпион')"
   ]
  },
  {
   "cell_type": "code",
   "execution_count": 13,
   "metadata": {},
   "outputs": [
    {
     "name": "stdout",
     "output_type": "stream",
     "text": [
      "-------\n"
     ]
    }
   ],
   "source": [
    "# Рисуем черту по длине названия\n",
    "print('-' * len(name))"
   ]
  },
  {
   "cell_type": "code",
   "execution_count": 14,
   "metadata": {},
   "outputs": [
    {
     "name": "stdout",
     "output_type": "stream",
     "text": [
      "спартак\n"
     ]
    }
   ],
   "source": [
    "# Преобразовываем название к нижнему регистру\n",
    "print(name.lower())"
   ]
  },
  {
   "cell_type": "code",
   "execution_count": 15,
   "metadata": {},
   "outputs": [
    {
     "name": "stdout",
     "output_type": "stream",
     "text": [
      "True\n"
     ]
    }
   ],
   "source": [
    "# Ищем букву 'п' в названии\n",
    "print(name.find('п') > 0)"
   ]
  },
  {
   "cell_type": "code",
   "execution_count": 16,
   "metadata": {},
   "outputs": [
    {
     "name": "stdout",
     "output_type": "stream",
     "text": [
      "2\n"
     ]
    }
   ],
   "source": [
    "# Количесвто повторений буквы a\n",
    "print(name.count('а'))"
   ]
  },
  {
   "cell_type": "markdown",
   "metadata": {},
   "source": [
    "### Задача №11"
   ]
  },
  {
   "cell_type": "code",
   "execution_count": 17,
   "metadata": {},
   "outputs": [
    {
     "name": "stdout",
     "output_type": "stream",
     "text": [
      "Введите название страны: Эстония\n",
      "Введите название столицы: Таллин\n",
      "\n",
      "Государство - Эстония, столица - Таллин\n"
     ]
    }
   ],
   "source": [
    "country = input('Введите название страны: ')\n",
    "capital = input('Введите название столицы: ')\n",
    "print(f'\\nГосударство - {country}, столица - {capital}')"
   ]
  },
  {
   "cell_type": "markdown",
   "metadata": {},
   "source": [
    "### Задача №12"
   ]
  },
  {
   "cell_type": "code",
   "execution_count": 18,
   "metadata": {},
   "outputs": [
    {
     "name": "stdout",
     "output_type": "stream",
     "text": [
      "объект\n",
      "ориентир\n",
      "тир\n",
      "кот\n",
      "рента\n"
     ]
    }
   ],
   "source": [
    "word = 'объектно-ориентированный'\n",
    "print(word[:6])\n",
    "print(word[9:17])\n",
    "print(word[14:17])\n",
    "print(word[4] + word[0] + word[5])\n",
    "print(word[10] + word[12:15] + word[19])"
   ]
  },
  {
   "cell_type": "markdown",
   "metadata": {},
   "source": [
    "### Задача №13"
   ]
  },
  {
   "cell_type": "code",
   "execution_count": 19,
   "metadata": {
    "scrolled": false
   },
   "outputs": [
    {
     "name": "stdout",
     "output_type": "stream",
     "text": [
      "Исходные списки:\n",
      "1-ый [4.5, 3.4, 100, 8.7, 100, 1.3]\n",
      "2-ый [14.5, 200, 3.4, 200, 8.7, 11.3]\n",
      "\n",
      "После удалений:\n",
      "1-ый [3.4, 8.7, 100, 1.3]\n",
      "2-ый [3.4, 200, 8.7, 11.3]\n",
      "\n",
      "Уникальные элементы:\n",
      "1-ый {8.7, 1.3, 3.4, 100}\n",
      "2-ый {200, 8.7, 3.4, 11.3}\n",
      "общие: {1.3, 3.4, 100, 8.7, 200, 11.3}\n",
      "\n",
      "Итоговые:\n",
      "3-й: [3.4, 8.7, 100, 1.3, 3.4, 200, 8.7, 11.3]\n",
      "Сортировка (возр.): [1.3, 3.4, 3.4, 8.7, 8.7, 11.3, 100, 200]\n",
      "Сортировка (убыв.): [200, 100, 11.3, 8.7, 8.7, 3.4, 3.4, 1.3]\n",
      "\n",
      "Список с четными: [3.4, 100, 3.4, 8.7]\n",
      "Ср. арифм. = 28.88\n",
      "\n",
      "Список с нечетными: [8.7, 1.3, 200, 11.3]\n",
      "Cр. геометр. = 12.64\n",
      "\n",
      "Макс. =  200 \t\tМин. =  1.3\n"
     ]
    }
   ],
   "source": [
    "import numpy as np\n",
    "\n",
    "# Создать 2 пустых списка\n",
    "a = []\n",
    "b = []\n",
    "\n",
    "# Добавить 2 вещественных числа (4.5 и 3.4) в список 'a' с помощью append\n",
    "a.append(4.5)\n",
    "a.append(3.4)\n",
    "# Добавить 2 вещественных числа (8.7, 1.3) в список 'a' с помощью extend\n",
    "a.extend([8.7, 1.3])\n",
    "\n",
    "# Добавить 2 вещественных числа (14.5, 3.4) в список 'b' с помощью append\n",
    "b.append(14.5)\n",
    "b.append(3.4)\n",
    "\n",
    "# Добавить 2 вещественных числа (8.7, 11.3) в список 'b'с помощью extend\n",
    "b.extend([8.7, 11.3])\n",
    "\n",
    "# Вставить целое число 100 на 2-е и 4-е место списка 'a'\n",
    "a.insert(2, 100)\n",
    "a.insert(4, 100)\n",
    "\n",
    "# Вставить целое число 200 на 1-е и 3-е место списка 'b'\n",
    "b.insert(1, 200)\n",
    "b.insert(3, 200)\n",
    "\n",
    "# Вывести списки на экран\n",
    "print(\"Исходные списки:\")\n",
    "print('1-ый', a)\n",
    "print('2-ый', b)\n",
    "\n",
    "# Удалить первые элементы из списков 'a' и 'b'\n",
    "del a[0]\n",
    "del b[0]\n",
    "\n",
    "# Удалить элемент 100 из списка 'a'\n",
    "a.remove(100)\n",
    "# Удалить элемент 200 из списка 'b'\n",
    "b.remove(200)\n",
    "\n",
    "# Вывести списки на экран\n",
    "print(\"\\nПосле удалений:\")\n",
    "print('1-ый', a)\n",
    "print('2-ый', b)\n",
    "\n",
    "# Создать множества из списков 'a' и 'b', а также их пересечение\n",
    "sa = set(a)\n",
    "sb = set(b)\n",
    "sa_and_sb = sa.union(sb)\n",
    "\n",
    "# Вывести экран уникальные элементы каждого списка и общие\n",
    "print(\"\\nУникальные элементы:\")\n",
    "print('1-ый', sa)\n",
    "print('2-ый', sb)\n",
    "print(\"общие:\", sa_and_sb)\n",
    "\n",
    "# Соединить списки 'a' и 'b'\n",
    "c = a + b\n",
    "\n",
    "# Отсортировать список 'c' по возрастанию и убыванию\n",
    "c_asc  = sorted(c)\n",
    "c_desc = sorted(c, reverse=True)\n",
    "\n",
    "# Среднее арифметическое элементов списка 'c', расположенных на четных местах\n",
    "\n",
    "lst_1 = [c[i] for i in range(len(c)) if i % 2 == 0]\n",
    "sr_ar = np.mean(lst_1)\n",
    "\n",
    "# Среднее геометрическое элементов списка 'c', расположенных на нечетных местах\n",
    "\n",
    "lst_2 = [c[i] for i in range(len(c)) if i % 2 != 0]\n",
    "sr_geom = pow(np.prod(lst_2), 1/len(lst_2))\n",
    "\n",
    "# Максимальный и минимальный элементы\n",
    "c_max = max(c)\n",
    "c_min = min(c)\n",
    "\n",
    "# Вывести результаты на экран\n",
    "print(\"\\nИтоговые:\")\n",
    "print(\"3-й:\", c)\n",
    "print('Сортировка (возр.):', c_asc)\n",
    "print('Сортировка (убыв.):', c_desc)\n",
    "print('\\nСписок с четными:', lst_1)\n",
    "print('Ср. арифм. =', round(sr_ar, 2))\n",
    "print('\\nСписок с нечетными:', lst_2)\n",
    "print('Cр. геометр. =', round(sr_geom, 2))\n",
    "print('\\nМакс. = ', c_max, '\\t\\tМин. = ', c_min)"
   ]
  },
  {
   "cell_type": "markdown",
   "metadata": {},
   "source": [
    "### Задача №14"
   ]
  },
  {
   "cell_type": "code",
   "execution_count": 20,
   "metadata": {},
   "outputs": [
    {
     "name": "stdout",
     "output_type": "stream",
     "text": [
      "{'фио': 'Иванов_Иван_Иванович', 'дата_рождения': '09.01.1978', 'место_рождения': 'Москва'}\n",
      "Данные:\n",
      "{'фио': 'Иванов_Иван_Иванович', 'дата_рождения': '09.01.1978', 'место_рождения': 'Москва', 'хобби': ['плавание', 'бокс', 'атлетика', 'программирование'], 'животные': ('кошка Мурка', 'собака Шарик'), 'ЕГЭ': {'математика': 85, 'русский язык': 90, 'физика': 78}, 'вузы': {'МГУ': 80, 'СПбГУ': 85, 'ВШЭ': 90}}\n",
      "Предметы: ('математика', 'русский язык', 'физика')\n",
      "Вузы: ('ВШЭ', 'МГУ', 'СПбГУ')\n",
      "\n",
      "Ответы на вопросы:\n",
      "* мое имя начинается на гласную букву: True\n",
      "* родился летом или зимой: True\n",
      "* у меня 4 хобби, первое \"плавание\"\n",
      "* после окончания школы сдавал 3 экз.\n",
      "* сумма баллов = 253\n",
      "* макс. балл = 90\n",
      "* кол-во вузов в которые прохожу: 3\n"
     ]
    }
   ],
   "source": [
    "# 1. Создание словаря\n",
    "\n",
    "# Создать пустой словарь\n",
    "info = dict()\n",
    "\n",
    "# Добавить значения для ключей \"фио\", \"дата_рождения\", \"место_рождения\"\n",
    "info[\"фио\"] = 'Иванов_Иван_Иванович'\n",
    "info[\"дата_рождения\"] = '09.01.1978'\n",
    "info[\"место_рождения\"] = 'Москва'\n",
    "# Напечатать словарь\n",
    "print(info)\n",
    "\n",
    "# Создать ключ \"хобби\" со значением = список из строк -\n",
    "# наименований хобби (например \"плавание\" и т.д.)\n",
    "info[\"хобби\"] = ['плавание', 'бокс', 'атлетика']\n",
    "\n",
    "# Добавить \"программирование\" в список хобби\n",
    "info[\"хобби\"].append(\"программирование\")\n",
    "\n",
    "# Создать ключ \"животные\" со значением = кортеж из строк -\n",
    "# имен домашних животных (например \"кошка Мурка\" и т.д.)\n",
    "info[\"животные\"] = (\"кошка Мурка\", \"собака Шарик\")\n",
    "\n",
    "# Создать ключ \"ЕГЭ\" и поместить в него пустой словарь\n",
    "info[\"ЕГЭ\"] = {}\n",
    "\n",
    "# В словарь info[\"ЕГЭ\"] добавить информацию о сданных экзаменах,\n",
    "# где ключ - наименование предмета, а значение - количество баллов\n",
    "info[\"ЕГЭ\"][\"математика\"] = 85\n",
    "info[\"ЕГЭ\"][\"русский язык\"] = 90\n",
    "info[\"ЕГЭ\"][\"физика\"] = 78\n",
    "\n",
    "# Добавить экзамен, который не был сдан, после чего удалить его\n",
    "info[\"ЕГЭ\"][\"информатика\"] = None  # Экзамен не сдан\n",
    "del info[\"ЕГЭ\"][\"информатика\"]\n",
    "\n",
    "# Создать ключ \"вузы\" и поместить в него пустой словарь\n",
    "info[\"вузы\"] = {}\n",
    "\n",
    "# В словарь info[\"вузы\"] добавить информацию о вузах,\n",
    "# где ключ - аббревиатура вуза, а значение -\n",
    "# количество баллов для специальности, на которую хотели поступить\n",
    "info[\"вузы\"][\"МГУ\"] = 80\n",
    "info[\"вузы\"][\"СПбГУ\"] = 85\n",
    "info[\"вузы\"][\"ВШЭ\"] = 90\n",
    "\n",
    "# 2. Вывод на экран\n",
    "print(\"Данные:\")\n",
    "# Получившийся словарь\n",
    "print(info)\n",
    "\n",
    "# Список экзаменов ЕГЭ в алфавитном порядке\n",
    "# (используйте метод ``keys()``, преобразовав результат в кортеж)\n",
    "exams = tuple(sorted(info[\"ЕГЭ\"].keys()))\n",
    "print(\"Предметы:\", exams)\n",
    "\n",
    "# Список вузов в алфавитном порядке\n",
    "uni = tuple(sorted(info[\"вузы\"].keys()))\n",
    "print(\"Вузы:\", uni)\n",
    "\n",
    "# 3. Ответы на вопросы\n",
    "print(\"\\nОтветы на вопросы:\")\n",
    "\n",
    "# Выделить имя из info[\"фио\"]\n",
    "name = info[\"фио\"].split('_')[1]\n",
    "# Начинается на гласную? (True/False)\n",
    "starts_with_vowel = name[0].lower() in 'аеёиоуыэюя'\n",
    "print(\"* мое имя начинается на гласную букву:\", starts_with_vowel)\n",
    "\n",
    "# Выделить месяц из info[\"дата_рождения\"]\n",
    "month = info[\"дата_рождения\"].split('.')[1]\n",
    "# Родился зимой или летом? (True/False)\n",
    "born_in_winter_or_summer = month in ['12', '01', '02', '06', '07', '08']\n",
    "print(\"* родился летом или зимой:\", born_in_winter_or_summer)\n",
    "\n",
    "# Количество хобби и первое из них\n",
    "hobbies_count = len(info[\"хобби\"])\n",
    "first_hobby = info[\"хобби\"][0]\n",
    "print(\"* у меня {} хобби, первое \\\"{}\\\"\".format(hobbies_count, first_hobby))\n",
    "\n",
    "# Количество сданных экзаменов\n",
    "passed_exams_count = len(info[\"ЕГЭ\"])\n",
    "print(\"* после окончания школы сдавал {} экз.\".format(passed_exams_count))\n",
    "\n",
    "# Сумма баллов по экзаменам\n",
    "sum_mark = sum(score for score in info[\"ЕГЭ\"].values() if score is not None)\n",
    "print(\"* сумма баллов = {}\".format(sum_mark))\n",
    "\n",
    "# Максимальный балл среди сданных\n",
    "max_mark = max(score for score in info[\"ЕГЭ\"].values() if score is not None)\n",
    "print(\"* макс. балл = {}\".format(max_mark))\n",
    "\n",
    "# Количество вузов, в которые Вы проходите по баллам\n",
    "# Подсказка: определить, проходите Вы или нет, можно простым сравнением\n",
    "# суммы баллов с проходным баллом вуза - ``True/False``.\n",
    "vuz_count = sum(1 for score in info[\"вузы\"].values() if sum_mark >= score)\n",
    "print(\"* кол-во вузов в которые прохожу: {}\".format(vuz_count))"
   ]
  }
 ],
 "metadata": {
  "kernelspec": {
   "display_name": "Python 3",
   "language": "python",
   "name": "python3"
  },
  "language_info": {
   "codemirror_mode": {
    "name": "ipython",
    "version": 3
   },
   "file_extension": ".py",
   "mimetype": "text/x-python",
   "name": "python",
   "nbconvert_exporter": "python",
   "pygments_lexer": "ipython3",
   "version": "3.7.3"
  }
 },
 "nbformat": 4,
 "nbformat_minor": 4
}
